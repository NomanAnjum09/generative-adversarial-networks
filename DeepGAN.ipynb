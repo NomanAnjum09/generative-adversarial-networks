{
 "cells": [
  {
   "cell_type": "code",
   "execution_count": 1,
   "metadata": {},
   "outputs": [],
   "source": [
    "import numpy as np\n",
    "import pandas as pd\n",
    "import matplotlib.pyplot as plt\n"
   ]
  },
  {
   "cell_type": "code",
   "execution_count": 2,
   "metadata": {},
   "outputs": [],
   "source": [
    "from tensorflow.keras.datasets import mnist\n",
    "(X_train,y_train),(X_test,y_test) = mnist.load_data()"
   ]
  },
  {
   "cell_type": "code",
   "execution_count": 3,
   "metadata": {},
   "outputs": [
    {
     "data": {
      "text/plain": [
       "<matplotlib.image.AxesImage at 0x7fb1d08dfb80>"
      ]
     },
     "execution_count": 3,
     "metadata": {},
     "output_type": "execute_result"
    },
    {
     "data": {
      "image/png": "[encoded data removed]",
      "text/plain": [
       "<Figure size 432x288 with 1 Axes>"
      ]
     },
     "metadata": {
      "needs_background": "light"
     },
     "output_type": "display_data"
    }
   ],
   "source": [
    "plt.imshow(X_train[100])"
   ]
  },
  {
   "cell_type": "code",
   "execution_count": 4,
   "metadata": {},
   "outputs": [],
   "source": [
    "X_train = np.interp(X_train, (X_train.min(), X_train.max()), (-1, +1))\n",
    "X_train = X_train.reshape(-1,28,28,1)"
   ]
  },
  {
   "cell_type": "code",
   "execution_count": 5,
   "metadata": {},
   "outputs": [
    {
     "data": {
      "text/plain": [
       "-1.0"
      ]
     },
     "execution_count": 5,
     "metadata": {},
     "output_type": "execute_result"
    }
   ],
   "source": [
    "X_train.min()"
   ]
  },
  {
   "cell_type": "code",
   "execution_count": 6,
   "metadata": {},
   "outputs": [
    {
     "data": {
      "text/plain": [
       "1.0"
      ]
     },
     "execution_count": 6,
     "metadata": {},
     "output_type": "execute_result"
    }
   ],
   "source": [
    "X_train.max()"
   ]
  },
  {
   "cell_type": "code",
   "execution_count": 7,
   "metadata": {},
   "outputs": [],
   "source": [
    "digit = X_train[y_train==0]"
   ]
  },
  {
   "cell_type": "code",
   "execution_count": 8,
   "metadata": {},
   "outputs": [
    {
     "data": {
      "text/plain": [
       "(5923, 28, 28, 1)"
      ]
     },
     "execution_count": 8,
     "metadata": {},
     "output_type": "execute_result"
    }
   ],
   "source": [
    "digit.shape"
   ]
  },
  {
   "cell_type": "code",
   "execution_count": 9,
   "metadata": {},
   "outputs": [],
   "source": [
    "import tensorflow as tf\n",
    "from tensorflow.keras.layers import Dense,Reshape,Dropout,LeakyReLU,Flatten,BatchNormalization,Conv2D,Convolution2DTranspose\n",
    "from tensorflow.keras.models import Sequential"
   ]
  },
  {
   "cell_type": "code",
   "execution_count": 10,
   "metadata": {},
   "outputs": [],
   "source": [
    "np.random.seed(42)\n",
    "tf.random.set_seed(42)\n",
    "\n",
    "coding_size = 100"
   ]
  },
  {
   "cell_type": "code",
   "execution_count": 11,
   "metadata": {},
   "outputs": [],
   "source": [
    "generator = Sequential()\n",
    "generator.add(Dense(7*7*128,input_shape=[coding_size]))\n",
    "generator.add(Reshape([7,7,128]))\n",
    "generator.add(BatchNormalization())\n",
    "generator.add(Convolution2DTranspose(64,kernel_size=5,strides=2,padding='same',activation='relu'))\n",
    "generator.add(BatchNormalization())\n",
    "generator.add(Convolution2DTranspose(1,kernel_size=5,activation='tanh',strides=2,padding='same'))"
   ]
  },
  {
   "cell_type": "code",
   "execution_count": 12,
   "metadata": {},
   "outputs": [],
   "source": [
    "discriminator = Sequential()\n",
    "discriminator.add(Convolution2DTranspose(64,kernel_size=5,strides = 2,\n",
    "                                        padding='same',activation = LeakyReLU(0.3),\n",
    "                                        input_shape=[28,28,1]))\n",
    "discriminator.add(Dropout(0.5))\n",
    "discriminator.add(Conv2D(128,kernel_size=5,strides=2,\n",
    "                        padding='same',activation=LeakyReLU(0.3)))\n",
    "\n",
    "discriminator.add(Dropout(0.5))\n",
    "discriminator.add(Flatten())\n",
    "discriminator.add(Dense(1,activation='sigmoid'))"
   ]
  },
  {
   "cell_type": "code",
   "execution_count": 13,
   "metadata": {},
   "outputs": [],
   "source": [
    "GAN = Sequential([generator,discriminator])"
   ]
  },
  {
   "cell_type": "code",
   "execution_count": 14,
   "metadata": {},
   "outputs": [],
   "source": [
    "discriminator.compile(loss='binary_crossentropy',optimizer='adam')"
   ]
  },
  {
   "cell_type": "code",
   "execution_count": 15,
   "metadata": {},
   "outputs": [],
   "source": [
    "discriminator.trainable=False"
   ]
  },
  {
   "cell_type": "code",
   "execution_count": 16,
   "metadata": {},
   "outputs": [],
   "source": [
    "GAN.compile(loss='binary_crossentropy',optimizer='adam')"
   ]
  },
  {
   "cell_type": "code",
   "execution_count": 17,
   "metadata": {},
   "outputs": [],
   "source": [
    "import tensorflow as tf"
   ]
  },
  {
   "cell_type": "code",
   "execution_count": 18,
   "metadata": {},
   "outputs": [],
   "source": [
    "batch_size =32\n",
    "my_data = digit\n",
    "dataset = tf.data.Dataset.from_tensor_slices(my_data).shuffle(buffer_size=1000)"
   ]
  },
  {
   "cell_type": "code",
   "execution_count": 19,
   "metadata": {},
   "outputs": [],
   "source": [
    "dataset = dataset.batch(batch_size,drop_remainder=True).prefetch(1)"
   ]
  },
  {
   "cell_type": "code",
   "execution_count": 20,
   "metadata": {},
   "outputs": [],
   "source": [
    "epochs = 20"
   ]
  },
  {
   "cell_type": "code",
   "execution_count": 21,
   "metadata": {},
   "outputs": [
    {
     "name": "stdout",
     "output_type": "stream",
     "text": [
      "Currently on epoch 1\n",
      "Currently on batch 20 of 185\n",
      "Currently on batch 40 of 185\n",
      "Currently on batch 60 of 185\n",
      "Currently on batch 80 of 185\n",
      "Currently on batch 100 of 185\n",
      "Currently on batch 120 of 185\n",
      "Currently on batch 140 of 185\n",
      "Currently on batch 160 of 185\n",
      "Currently on batch 180 of 185\n",
      "Currently on epoch 2\n",
      "Currently on batch 20 of 185\n",
      "Currently on batch 40 of 185\n",
      "Currently on batch 60 of 185\n",
      "Currently on batch 80 of 185\n",
      "Currently on batch 100 of 185\n",
      "Currently on batch 120 of 185\n",
      "Currently on batch 140 of 185\n",
      "Currently on batch 160 of 185\n",
      "Currently on batch 180 of 185\n",
      "Currently on epoch 3\n",
      "Currently on batch 20 of 185\n",
      "Currently on batch 40 of 185\n",
      "Currently on batch 60 of 185\n",
      "Currently on batch 80 of 185\n",
      "Currently on batch 100 of 185\n",
      "Currently on batch 120 of 185\n",
      "Currently on batch 140 of 185\n",
      "Currently on batch 160 of 185\n",
      "Currently on batch 180 of 185\n",
      "Currently on epoch 4\n",
      "Currently on batch 20 of 185\n",
      "Currently on batch 40 of 185\n",
      "Currently on batch 60 of 185\n",
      "Currently on batch 80 of 185\n",
      "Currently on batch 100 of 185\n",
      "Currently on batch 120 of 185\n",
      "Currently on batch 140 of 185\n",
      "Currently on batch 160 of 185\n",
      "Currently on batch 180 of 185\n",
      "Currently on epoch 5\n",
      "Currently on batch 20 of 185\n",
      "Currently on batch 40 of 185\n",
      "Currently on batch 60 of 185\n",
      "Currently on batch 80 of 185\n",
      "Currently on batch 100 of 185\n",
      "Currently on batch 120 of 185\n",
      "Currently on batch 140 of 185\n",
      "Currently on batch 160 of 185\n",
      "Currently on batch 180 of 185\n",
      "Currently on epoch 6\n",
      "Currently on batch 20 of 185\n",
      "Currently on batch 40 of 185\n",
      "Currently on batch 60 of 185\n",
      "Currently on batch 80 of 185\n",
      "Currently on batch 100 of 185\n",
      "Currently on batch 120 of 185\n",
      "Currently on batch 140 of 185\n",
      "Currently on batch 160 of 185\n",
      "Currently on batch 180 of 185\n",
      "Currently on epoch 7\n",
      "Currently on batch 20 of 185\n",
      "Currently on batch 40 of 185\n",
      "Currently on batch 60 of 185\n",
      "Currently on batch 80 of 185\n",
      "Currently on batch 100 of 185\n",
      "Currently on batch 120 of 185\n",
      "Currently on batch 140 of 185\n",
      "Currently on batch 160 of 185\n",
      "Currently on batch 180 of 185\n",
      "Currently on epoch 8\n",
      "Currently on batch 20 of 185\n",
      "Currently on batch 40 of 185\n",
      "Currently on batch 60 of 185\n",
      "Currently on batch 80 of 185\n",
      "Currently on batch 100 of 185\n",
      "Currently on batch 120 of 185\n",
      "Currently on batch 140 of 185\n",
      "Currently on batch 160 of 185\n",
      "Currently on batch 180 of 185\n",
      "Currently on epoch 9\n",
      "Currently on batch 20 of 185\n",
      "Currently on batch 40 of 185\n",
      "Currently on batch 60 of 185\n",
      "Currently on batch 80 of 185\n",
      "Currently on batch 100 of 185\n",
      "Currently on batch 120 of 185\n",
      "Currently on batch 140 of 185\n",
      "Currently on batch 160 of 185\n",
      "Currently on batch 180 of 185\n",
      "Currently on epoch 10\n",
      "Currently on batch 20 of 185\n",
      "Currently on batch 40 of 185\n",
      "Currently on batch 60 of 185\n",
      "Currently on batch 80 of 185\n",
      "Currently on batch 100 of 185\n",
      "Currently on batch 120 of 185\n",
      "Currently on batch 140 of 185\n",
      "Currently on batch 160 of 185\n",
      "Currently on batch 180 of 185\n",
      "Currently on epoch 11\n",
      "Currently on batch 20 of 185\n",
      "Currently on batch 40 of 185\n",
      "Currently on batch 60 of 185\n",
      "Currently on batch 80 of 185\n",
      "Currently on batch 100 of 185\n",
      "Currently on batch 120 of 185\n",
      "Currently on batch 140 of 185\n",
      "Currently on batch 160 of 185\n",
      "Currently on batch 180 of 185\n",
      "Currently on epoch 12\n",
      "Currently on batch 20 of 185\n",
      "Currently on batch 40 of 185\n",
      "Currently on batch 60 of 185\n",
      "Currently on batch 80 of 185\n",
      "Currently on batch 100 of 185\n",
      "Currently on batch 120 of 185\n",
      "Currently on batch 140 of 185\n",
      "Currently on batch 160 of 185\n",
      "Currently on batch 180 of 185\n",
      "Currently on epoch 13\n",
      "Currently on batch 20 of 185\n",
      "Currently on batch 40 of 185\n",
      "Currently on batch 60 of 185\n",
      "Currently on batch 80 of 185\n",
      "Currently on batch 100 of 185\n",
      "Currently on batch 120 of 185\n",
      "Currently on batch 140 of 185\n",
      "Currently on batch 160 of 185\n",
      "Currently on batch 180 of 185\n",
      "Currently on epoch 14\n",
      "Currently on batch 20 of 185\n",
      "Currently on batch 40 of 185\n",
      "Currently on batch 60 of 185\n",
      "Currently on batch 80 of 185\n",
      "Currently on batch 100 of 185\n",
      "Currently on batch 120 of 185\n",
      "Currently on batch 140 of 185\n",
      "Currently on batch 160 of 185\n",
      "Currently on batch 180 of 185\n",
      "Currently on epoch 15\n",
      "Currently on batch 20 of 185\n",
      "Currently on batch 40 of 185\n",
      "Currently on batch 60 of 185\n",
      "Currently on batch 80 of 185\n",
      "Currently on batch 100 of 185\n",
      "Currently on batch 120 of 185\n",
      "Currently on batch 140 of 185\n",
      "Currently on batch 160 of 185\n",
      "Currently on batch 180 of 185\n",
      "Currently on epoch 16\n",
      "Currently on batch 20 of 185\n",
      "Currently on batch 40 of 185\n",
      "Currently on batch 60 of 185\n",
      "Currently on batch 80 of 185\n",
      "Currently on batch 100 of 185\n",
      "Currently on batch 120 of 185\n",
      "Currently on batch 140 of 185\n",
      "Currently on batch 160 of 185\n",
      "Currently on batch 180 of 185\n",
      "Currently on epoch 17\n",
      "Currently on batch 20 of 185\n",
      "Currently on batch 40 of 185\n",
      "Currently on batch 60 of 185\n",
      "Currently on batch 80 of 185\n",
      "Currently on batch 100 of 185\n",
      "Currently on batch 120 of 185\n",
      "Currently on batch 140 of 185\n",
      "Currently on batch 160 of 185\n",
      "Currently on batch 180 of 185\n",
      "Currently on epoch 18\n",
      "Currently on batch 20 of 185\n",
      "Currently on batch 40 of 185\n",
      "Currently on batch 60 of 185\n",
      "Currently on batch 80 of 185\n",
      "Currently on batch 100 of 185\n",
      "Currently on batch 120 of 185\n",
      "Currently on batch 140 of 185\n",
      "Currently on batch 160 of 185\n",
      "Currently on batch 180 of 185\n",
      "Currently on epoch 19\n",
      "Currently on batch 20 of 185\n",
      "Currently on batch 40 of 185\n",
      "Currently on batch 60 of 185\n",
      "Currently on batch 80 of 185\n",
      "Currently on batch 100 of 185\n",
      "Currently on batch 120 of 185\n",
      "Currently on batch 140 of 185\n",
      "Currently on batch 160 of 185\n",
      "Currently on batch 180 of 185\n",
      "Currently on epoch 20\n",
      "Currently on batch 20 of 185\n",
      "Currently on batch 40 of 185\n",
      "Currently on batch 60 of 185\n",
      "Currently on batch 80 of 185\n",
      "Currently on batch 100 of 185\n",
      "Currently on batch 120 of 185\n",
      "Currently on batch 140 of 185\n",
      "Currently on batch 160 of 185\n",
      "Currently on batch 180 of 185\n"
     ]
    }
   ],
   "source": [
    "generator,discriminator = GAN.layers\n",
    "for epoch in range(epochs):\n",
    "    print(f\"Currently on epoch {epoch+1}\")\n",
    "    i=0\n",
    "    for X_batch in dataset:\n",
    "        i=i+1\n",
    "        if i%20==0:\n",
    "            print(f\"Currently on batch {i} of {len(my_data)//batch_size}\")\n",
    "            noise = tf.random.normal(shape=[batch_size,coding_size])\n",
    "            gen_images = generator(noise)\n",
    "            X_fake_vs_X_real = tf.concat([gen_images,tf.dtypes.cast(X_batch,tf.float32)],axis=0)\n",
    "      \n",
    "            y1 = tf.constant([[0.0]]*batch_size+[[1.0]]*batch_size)\n",
    "        \n",
    "            discriminator.trainable = True\n",
    "            discriminator.train_on_batch(X_fake_vs_X_real,y1)\n",
    "        \n",
    "            #Train Generator\n",
    "            noise = tf.random.normal(shape=[batch_size,coding_size])\n",
    "            y2 = tf.constant([[1.0]]*batch_size)\n",
    "            discriminator.trainable = False\n",
    "            GAN.train_on_batch(noise,y2)\n",
    "        "
   ]
  },
  {
   "cell_type": "code",
   "execution_count": 22,
   "metadata": {},
   "outputs": [
    {
     "data": {
      "text/plain": [
       "<matplotlib.image.AxesImage at 0x7fb1c8320130>"
      ]
     },
     "execution_count": 22,
     "metadata": {},
     "output_type": "execute_result"
    },
    {
     "data": {
      "image/png": "[encoded data removed]",
      "text/plain": [
       "<Figure size 432x288 with 1 Axes>"
      ]
     },
     "metadata": {
      "needs_background": "light"
     },
     "output_type": "display_data"
    }
   ],
   "source": [
    "noise = tf.random.normal(shape=[10,coding_size])\n",
    "plt.imshow(noise)"
   ]
  },
  {
   "cell_type": "code",
   "execution_count": 23,
   "metadata": {},
   "outputs": [],
   "source": [
    "images = generator(noise)\n",
    "images = np.array(images)"
   ]
  },
  {
   "cell_type": "code",
   "execution_count": 27,
   "metadata": {},
   "outputs": [
    {
     "data": {
      "text/plain": [
       "<matplotlib.image.AxesImage at 0x7fb1c81dcbe0>"
      ]
     },
     "execution_count": 27,
     "metadata": {},
     "output_type": "execute_result"
    },
    {
     "data": {
      "image/png": "[encoded data removed]",
      "text/plain": [
       "<Figure size 432x288 with 1 Axes>"
      ]
     },
     "metadata": {
      "needs_background": "light"
     },
     "output_type": "display_data"
    }
   ],
   "source": [
    "plt.imshow(images[9].reshape(28,28))"
   ]
  },
  {
   "cell_type": "code",
   "execution_count": null,
   "metadata": {},
   "outputs": [],
   "source": []
  }
 ],
 "metadata": {
  "kernelspec": {
   "display_name": "Python 3",
   "language": "python",
   "name": "python3"
  },
  "language_info": {
   "codemirror_mode": {
    "name": "ipython",
    "version": 3
   },
   "file_extension": ".py",
   "mimetype": "text/x-python",
   "name": "python",
   "nbconvert_exporter": "python",
   "pygments_lexer": "ipython3",
   "version": "3.8.2"
  }
 },
 "nbformat": 4,
 "nbformat_minor": 4
}
